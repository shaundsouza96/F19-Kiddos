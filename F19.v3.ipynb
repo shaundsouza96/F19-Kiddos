{
 "cells": [
  {
   "cell_type": "code",
   "execution_count": 1,
   "metadata": {},
   "outputs": [],
   "source": [
    "import pandas as pd\n",
    "import plotly as py\n",
    "import plotly.graph_objs as go\n",
    "import plotly.express as px"
   ]
  },
  {
   "cell_type": "code",
   "execution_count": 3,
   "metadata": {
    "scrolled": true
   },
   "outputs": [],
   "source": [
    "#py.tools.set_credentials_file(username='sdsouza1996', api_key='FdAFl76mmC57xfMO6ANA')"
   ]
  },
  {
   "cell_type": "code",
   "execution_count": 4,
   "metadata": {},
   "outputs": [],
   "source": [
    "df = pd.read_csv (r'C:\\Users\\VCC91462\\Desktop\\Data_projects\\Fifa19_Dataset.csv')"
   ]
  },
  {
   "cell_type": "code",
   "execution_count": 5,
   "metadata": {},
   "outputs": [],
   "source": [
    "columns_to_drop = ['Unnamed: 0','ID', 'Photo', 'Flag','Club Logo', 'Body Type', 'Real Face', 'Jersey Number',\n",
    "                   'Height', 'Weight','LS', 'ST', 'RS', 'LW', 'LF', 'CF', 'RF', 'RW',\n",
    "                   'LAM', 'CAM', 'RAM', 'LM', 'LCM', 'CM', 'RCM', 'RM', 'LWB', 'LDM',\n",
    "                   'CDM', 'RDM', 'RWB', 'LB', 'LCB', 'CB', 'RCB', 'RB','StandingTackle', 'SlidingTackle', 'GKDiving', 'GKHandling', 'GKKicking', 'GKPositioning', 'GKReflexes',\n",
    "                  'Strength', 'LongShots', 'Aggression', 'Interceptions', 'Positioning', 'Vision', 'Penalties', 'Composure', 'Marking',\n",
    "                  'Crossing', 'Finishing', 'HeadingAccuracy',\n",
    "       'ShortPassing', 'Volleys', 'Dribbling', 'Curve', 'FKAccuracy',\n",
    "       'LongPassing', 'BallControl', 'Acceleration', 'SprintSpeed', 'Agility',\n",
    "       'Reactions', 'Balance', 'ShotPower', 'Jumping', 'Stamina','Special','International Reputation','Skill Moves']"
   ]
  },
  {
   "cell_type": "code",
   "execution_count": 6,
   "metadata": {},
   "outputs": [],
   "source": [
    "df.drop(columns_to_drop, axis = 1, inplace = True)"
   ]
  },
  {
   "cell_type": "code",
   "execution_count": 7,
   "metadata": {},
   "outputs": [],
   "source": [
    "df['PG'] = df['Potential'] - df['Overall']"
   ]
  },
  {
   "cell_type": "code",
   "execution_count": 8,
   "metadata": {},
   "outputs": [],
   "source": [
    "def wage_split(x):\n",
    "    try:\n",
    "        return int(x.split(\"K\")[0][1:])\n",
    "    except:\n",
    "        return 0\n",
    "df['Wage'] = df['Wage'].apply(lambda x : wage_split(x))"
   ]
  },
  {
   "cell_type": "code",
   "execution_count": 9,
   "metadata": {},
   "outputs": [],
   "source": [
    "def value_split(x):\n",
    "    try:\n",
    "        if 'M' in x:\n",
    "            return float(x.split(\"M\")[0][1:])\n",
    "        elif 'K' in x:\n",
    "            return float(x.split(\"K\")[0][1:])/1000\n",
    "    except:\n",
    "        return 0\n",
    "df['Value'] = df['Value'].apply(lambda x : value_split(x))"
   ]
  },
  {
   "cell_type": "code",
   "execution_count": 10,
   "metadata": {},
   "outputs": [],
   "source": [
    "def contract_end(x):\n",
    "    try:\n",
    "        if x == '2019':\n",
    "            return (\"Yes\")\n",
    "        elif x == '2020':\n",
    "            return (\"Approaching\")\n",
    "    \n",
    "    except:\n",
    "        return (\"boo\")"
   ]
  },
  {
   "cell_type": "code",
   "execution_count": 11,
   "metadata": {},
   "outputs": [],
   "source": [
    "df['contract_end'] = df['Contract Valid Until'].apply(lambda x : contract_end(x))"
   ]
  },
  {
   "cell_type": "code",
   "execution_count": 12,
   "metadata": {},
   "outputs": [],
   "source": [
    "df_21 = df[df.Age <=21]"
   ]
  },
  {
   "cell_type": "code",
   "execution_count": null,
   "metadata": {},
   "outputs": [],
   "source": [
    "df_21['Potential'].quantile([.95])"
   ]
  },
  {
   "cell_type": "code",
   "execution_count": 14,
   "metadata": {},
   "outputs": [],
   "source": [
    "df_hp = df[(df.Potential>=84) & (df.Age <=21)]"
   ]
  },
  {
   "cell_type": "code",
   "execution_count": 15,
   "metadata": {},
   "outputs": [],
   "source": [
    "hp_count = df_hp.groupby('Club', as_index = False).count()\n",
    "#hp_count.reset_index(drop = True, inplace = True)"
   ]
  },
  {
   "cell_type": "code",
   "execution_count": 17,
   "metadata": {},
   "outputs": [],
   "source": [
    "hp_columns_to_drop = ['Age', 'Nationality', 'Overall', 'Potential', 'Value',\n",
    "       'Wage', 'Preferred Foot', 'Weak Foot', 'Work Rate', 'Position',\n",
    "       'Joined', 'Loaned From', 'Contract Valid Until', 'Release Clause', 'PG',\n",
    "       'contract_end']\n",
    "hp_count.drop(hp_columns_to_drop, axis = 1, inplace = True)"
   ]
  },
  {
   "cell_type": "code",
   "execution_count": 18,
   "metadata": {},
   "outputs": [],
   "source": [
    "hp_count.rename(columns = {'Name':'Player_Count'}, inplace = True)"
   ]
  },
  {
   "cell_type": "code",
   "execution_count": 19,
   "metadata": {},
   "outputs": [],
   "source": [
    "hp_value = df_hp.groupby('Club', as_index = False).sum()\n",
    "#hp_value.reset_index(drop = True, inplace = True)"
   ]
  },
  {
   "cell_type": "code",
   "execution_count": 20,
   "metadata": {},
   "outputs": [],
   "source": [
    "hp_asset = pd.merge(hp_value, hp_count, on=\"Club\")"
   ]
  },
  {
   "cell_type": "code",
   "execution_count": 23,
   "metadata": {
    "scrolled": true
   },
   "outputs": [
    {
     "data": {
      "application/vnd.plotly.v1+json": {
       "config": {
        "plotlyServerURL": "https://plot.ly"
       },
       "data": [
        {
         "customdata": [
          [
           "1. FC Köln"
          ],
          [
           "1. FSV Mainz 05"
          ],
          [
           "AEK Athens"
          ],
          [
           "AS Monaco"
          ],
          [
           "AZ Alkmaar"
          ],
          [
           "Ajax"
          ],
          [
           "Argentinos Juniors"
          ],
          [
           "Arsenal"
          ],
          [
           "Aston Villa"
          ],
          [
           "Atalanta"
          ],
          [
           "Atlanta United"
          ],
          [
           "Bayer 04 Leverkusen"
          ],
          [
           "Bologna"
          ],
          [
           "Borussia Dortmund"
          ],
          [
           "Borussia Mönchengladbach"
          ],
          [
           "Bournemouth"
          ],
          [
           "Brescia"
          ],
          [
           "CD Leganés"
          ],
          [
           "Cagliari"
          ],
          [
           "Celtic"
          ],
          [
           "Chelsea"
          ],
          [
           "Club Brugge KV"
          ],
          [
           "Crystal Palace"
          ],
          [
           "DC United"
          ],
          [
           "Deportivo Cali"
          ],
          [
           "Derby County"
          ],
          [
           "Dijon FCO"
          ],
          [
           "Dinamo Zagreb"
          ],
          [
           "Dynamo Kyiv"
          ],
          [
           "Eintracht Frankfurt"
          ],
          [
           "En Avant de Guingamp"
          ],
          [
           "Everton"
          ],
          [
           "Excelsior"
          ],
          [
           "FC Barcelona"
          ],
          [
           "FC Basel 1893"
          ],
          [
           "FC Bayern München"
          ],
          [
           "FC Girondins de Bordeaux"
          ],
          [
           "FC Groningen"
          ],
          [
           "FC Nantes"
          ],
          [
           "FC Porto"
          ],
          [
           "FC Red Bull Salzburg"
          ],
          [
           "FC Schalke 04"
          ],
          [
           "FC Zürich"
          ],
          [
           "Fiorentina"
          ],
          [
           "Fulham"
          ],
          [
           "Galatasaray SK"
          ],
          [
           "Genoa"
          ],
          [
           "Getafe CF"
          ],
          [
           "Hamburger SV"
          ],
          [
           "Hannover 96"
          ],
          [
           "Heart of Midlothian"
          ],
          [
           "Hertha BSC"
          ],
          [
           "Independiente"
          ],
          [
           "Inter"
          ],
          [
           "Juventus"
          ],
          [
           "KAA Gent"
          ],
          [
           "KRC Genk"
          ],
          [
           "LOSC Lille"
          ],
          [
           "Lech Poznań"
          ],
          [
           "Legia Warszawa"
          ],
          [
           "Leicester City"
          ],
          [
           "Liverpool"
          ],
          [
           "Manchester City"
          ],
          [
           "Manchester United"
          ],
          [
           "Milan"
          ],
          [
           "Molde FK"
          ],
          [
           "Montpellier HSC"
          ],
          [
           "Napoli"
          ],
          [
           "New York Red Bulls"
          ],
          [
           "Norwich City"
          ],
          [
           "OGC Nice"
          ],
          [
           "Olympique Lyonnais"
          ],
          [
           "Olympique de Marseille"
          ],
          [
           "PFC CSKA Moscow"
          ],
          [
           "PSV"
          ],
          [
           "Paris Saint-Germain"
          ],
          [
           "Parma"
          ],
          [
           "RB Leipzig"
          ],
          [
           "RC Celta"
          ],
          [
           "RCD Espanyol"
          ],
          [
           "RSC Anderlecht"
          ],
          [
           "Racing Club"
          ],
          [
           "Rangers FC"
          ],
          [
           "Real Madrid"
          ],
          [
           "Real Sociedad"
          ],
          [
           "Rio Ave FC"
          ],
          [
           "River Plate"
          ],
          [
           "Roma"
          ],
          [
           "SC Braga"
          ],
          [
           "SK Sturm Graz"
          ],
          [
           "SL Benfica"
          ],
          [
           "SV Werder Bremen"
          ],
          [
           "Sampdoria"
          ],
          [
           "Sassuolo"
          ],
          [
           "Shakhtar Donetsk"
          ],
          [
           "Sheffield United"
          ],
          [
           "Sporting CP"
          ],
          [
           "Stade Rennais FC"
          ],
          [
           "Swansea City"
          ],
          [
           "TSG 1899 Hoffenheim"
          ],
          [
           "Tottenham Hotspur"
          ],
          [
           "Toulouse Football Club"
          ],
          [
           "Udinese"
          ],
          [
           "Valencia CF"
          ],
          [
           "Vancouver Whitecaps FC"
          ],
          [
           "VfB Stuttgart"
          ],
          [
           "VfL Wolfsburg"
          ],
          [
           "Vitesse"
          ],
          [
           "Vélez Sarsfield"
          ],
          [
           "West Bromwich Albion"
          ],
          [
           "West Ham United"
          ],
          [
           "Wigan Athletic"
          ],
          [
           "Wolverhampton Wanderers"
          ],
          [
           "Yokohama F. Marinos"
          ]
         ],
         "hoverlabel": {
          "namelength": 0
         },
         "hovertemplate": "Estimated Value (in Millions)=%{marker.color}<br>Player Count=%{y}<br>Club=%{customdata[0]}",
         "legendgroup": "",
         "marker": {
          "color": [
           3.9,
           18,
           4.1,
           44.1,
           3.5999999999999996,
           88.5,
           3.3,
           10.45,
           10,
           5.4,
           8.5,
           62.2,
           13.2,
           65.3,
           40,
           19.5,
           1.8,
           10.5,
           21.5,
           28.5,
           5.1499999999999995,
           38.75,
           8,
           1.4,
           7,
           16.5,
           0.8,
           11,
           25.1,
           15.5,
           10.5,
           35,
           1.4,
           112.1,
           0.28,
           11.85,
           30.1,
           7,
           0.65,
           23.5,
           10,
           40,
           1.7,
           30,
           20,
           12.5,
           5,
           12,
           2.2,
           11,
           0.65,
           12.700000000000001,
           9.5,
           18,
           22,
           8.9,
           15.6,
           13.5,
           3.2,
           1.6,
           42.5,
           33.1,
           52.300000000000004,
           34.300000000000004,
           80.1,
           1.8,
           2,
           26,
           4.8,
           1.6,
           31.5,
           81.675,
           6,
           10.5,
           21.8,
           112.2,
           1.5,
           59.3,
           31,
           11.5,
           5.5,
           8.3,
           0.925,
           64.5,
           32.925,
           7,
           7,
           40.8,
           7,
           4.5,
           57.8,
           14.95,
           5.5,
           7.6,
           9.950000000000001,
           1.8,
           42.5,
           14.9,
           2.1,
           22.099999999999998,
           5.5,
           15.5,
           22.5,
           71.5,
           6,
           25,
           23,
           20,
           9.5,
           7,
           18,
           1.6,
           37.6,
           0.975
          ],
          "coloraxis": "coloraxis",
          "size": [
           3.9,
           18,
           4.1,
           44.1,
           3.5999999999999996,
           88.5,
           3.3,
           10.45,
           10,
           5.4,
           8.5,
           62.2,
           13.2,
           65.3,
           40,
           19.5,
           1.8,
           10.5,
           21.5,
           28.5,
           5.1499999999999995,
           38.75,
           8,
           1.4,
           7,
           16.5,
           0.8,
           11,
           25.1,
           15.5,
           10.5,
           35,
           1.4,
           112.1,
           0.28,
           11.85,
           30.1,
           7,
           0.65,
           23.5,
           10,
           40,
           1.7,
           30,
           20,
           12.5,
           5,
           12,
           2.2,
           11,
           0.65,
           12.700000000000001,
           9.5,
           18,
           22,
           8.9,
           15.6,
           13.5,
           3.2,
           1.6,
           42.5,
           33.1,
           52.300000000000004,
           34.300000000000004,
           80.1,
           1.8,
           2,
           26,
           4.8,
           1.6,
           31.5,
           81.675,
           6,
           10.5,
           21.8,
           112.2,
           1.5,
           59.3,
           31,
           11.5,
           5.5,
           8.3,
           0.925,
           64.5,
           32.925,
           7,
           7,
           40.8,
           7,
           4.5,
           57.8,
           14.95,
           5.5,
           7.6,
           9.950000000000001,
           1.8,
           42.5,
           14.9,
           2.1,
           22.099999999999998,
           5.5,
           15.5,
           22.5,
           71.5,
           6,
           25,
           23,
           20,
           9.5,
           7,
           18,
           1.6,
           37.6,
           0.975
          ],
          "sizemode": "area",
          "sizeref": 0.2805,
          "symbol": "circle"
         },
         "mode": "markers",
         "name": "",
         "showlegend": false,
         "type": "scatter",
         "x": [
          3.9,
          18,
          4.1,
          44.1,
          3.5999999999999996,
          88.5,
          3.3,
          10.45,
          10,
          5.4,
          8.5,
          62.2,
          13.2,
          65.3,
          40,
          19.5,
          1.8,
          10.5,
          21.5,
          28.5,
          5.1499999999999995,
          38.75,
          8,
          1.4,
          7,
          16.5,
          0.8,
          11,
          25.1,
          15.5,
          10.5,
          35,
          1.4,
          112.1,
          0.28,
          11.85,
          30.1,
          7,
          0.65,
          23.5,
          10,
          40,
          1.7,
          30,
          20,
          12.5,
          5,
          12,
          2.2,
          11,
          0.65,
          12.700000000000001,
          9.5,
          18,
          22,
          8.9,
          15.6,
          13.5,
          3.2,
          1.6,
          42.5,
          33.1,
          52.300000000000004,
          34.300000000000004,
          80.1,
          1.8,
          2,
          26,
          4.8,
          1.6,
          31.5,
          81.675,
          6,
          10.5,
          21.8,
          112.2,
          1.5,
          59.3,
          31,
          11.5,
          5.5,
          8.3,
          0.925,
          64.5,
          32.925,
          7,
          7,
          40.8,
          7,
          4.5,
          57.8,
          14.95,
          5.5,
          7.6,
          9.950000000000001,
          1.8,
          42.5,
          14.9,
          2.1,
          22.099999999999998,
          5.5,
          15.5,
          22.5,
          71.5,
          6,
          25,
          23,
          20,
          9.5,
          7,
          18,
          1.6,
          37.6,
          0.975
         ],
         "xaxis": "x",
         "y": [
          1,
          2,
          1,
          8,
          2,
          5,
          1,
          4,
          1,
          2,
          1,
          4,
          3,
          6,
          4,
          2,
          1,
          1,
          2,
          3,
          3,
          5,
          1,
          1,
          1,
          2,
          1,
          1,
          3,
          1,
          1,
          3,
          1,
          5,
          1,
          3,
          4,
          1,
          1,
          2,
          1,
          3,
          1,
          2,
          2,
          1,
          1,
          1,
          1,
          1,
          1,
          3,
          1,
          1,
          2,
          2,
          2,
          2,
          2,
          1,
          3,
          4,
          4,
          4,
          5,
          1,
          1,
          2,
          1,
          1,
          3,
          7,
          1,
          1,
          2,
          7,
          1,
          6,
          2,
          1,
          1,
          2,
          1,
          4,
          3,
          1,
          1,
          4,
          1,
          1,
          6,
          2,
          1,
          2,
          3,
          1,
          3,
          2,
          1,
          3,
          1,
          2,
          2,
          5,
          1,
          2,
          3,
          2,
          1,
          1,
          2,
          1,
          3,
          1
         ],
         "yaxis": "y"
        }
       ],
       "layout": {
        "coloraxis": {
         "colorbar": {
          "title": {
           "text": "Estimated Value (in Millions)"
          }
         },
         "colorscale": [
          [
           0,
           "#0d0887"
          ],
          [
           0.1111111111111111,
           "#46039f"
          ],
          [
           0.2222222222222222,
           "#7201a8"
          ],
          [
           0.3333333333333333,
           "#9c179e"
          ],
          [
           0.4444444444444444,
           "#bd3786"
          ],
          [
           0.5555555555555556,
           "#d8576b"
          ],
          [
           0.6666666666666666,
           "#ed7953"
          ],
          [
           0.7777777777777778,
           "#fb9f3a"
          ],
          [
           0.8888888888888888,
           "#fdca26"
          ],
          [
           1,
           "#f0f921"
          ]
         ]
        },
        "height": 600,
        "legend": {
         "itemsizing": "constant",
         "tracegroupgap": 0
        },
        "template": {
         "data": {
          "bar": [
           {
            "error_x": {
             "color": "#2a3f5f"
            },
            "error_y": {
             "color": "#2a3f5f"
            },
            "marker": {
             "line": {
              "color": "#E5ECF6",
              "width": 0.5
             }
            },
            "type": "bar"
           }
          ],
          "barpolar": [
           {
            "marker": {
             "line": {
              "color": "#E5ECF6",
              "width": 0.5
             }
            },
            "type": "barpolar"
           }
          ],
          "carpet": [
           {
            "aaxis": {
             "endlinecolor": "#2a3f5f",
             "gridcolor": "white",
             "linecolor": "white",
             "minorgridcolor": "white",
             "startlinecolor": "#2a3f5f"
            },
            "baxis": {
             "endlinecolor": "#2a3f5f",
             "gridcolor": "white",
             "linecolor": "white",
             "minorgridcolor": "white",
             "startlinecolor": "#2a3f5f"
            },
            "type": "carpet"
           }
          ],
          "choropleth": [
           {
            "colorbar": {
             "outlinewidth": 0,
             "ticks": ""
            },
            "type": "choropleth"
           }
          ],
          "contour": [
           {
            "colorbar": {
             "outlinewidth": 0,
             "ticks": ""
            },
            "colorscale": [
             [
              0,
              "#0d0887"
             ],
             [
              0.1111111111111111,
              "#46039f"
             ],
             [
              0.2222222222222222,
              "#7201a8"
             ],
             [
              0.3333333333333333,
              "#9c179e"
             ],
             [
              0.4444444444444444,
              "#bd3786"
             ],
             [
              0.5555555555555556,
              "#d8576b"
             ],
             [
              0.6666666666666666,
              "#ed7953"
             ],
             [
              0.7777777777777778,
              "#fb9f3a"
             ],
             [
              0.8888888888888888,
              "#fdca26"
             ],
             [
              1,
              "#f0f921"
             ]
            ],
            "type": "contour"
           }
          ],
          "contourcarpet": [
           {
            "colorbar": {
             "outlinewidth": 0,
             "ticks": ""
            },
            "type": "contourcarpet"
           }
          ],
          "heatmap": [
           {
            "colorbar": {
             "outlinewidth": 0,
             "ticks": ""
            },
            "colorscale": [
             [
              0,
              "#0d0887"
             ],
             [
              0.1111111111111111,
              "#46039f"
             ],
             [
              0.2222222222222222,
              "#7201a8"
             ],
             [
              0.3333333333333333,
              "#9c179e"
             ],
             [
              0.4444444444444444,
              "#bd3786"
             ],
             [
              0.5555555555555556,
              "#d8576b"
             ],
             [
              0.6666666666666666,
              "#ed7953"
             ],
             [
              0.7777777777777778,
              "#fb9f3a"
             ],
             [
              0.8888888888888888,
              "#fdca26"
             ],
             [
              1,
              "#f0f921"
             ]
            ],
            "type": "heatmap"
           }
          ],
          "heatmapgl": [
           {
            "colorbar": {
             "outlinewidth": 0,
             "ticks": ""
            },
            "colorscale": [
             [
              0,
              "#0d0887"
             ],
             [
              0.1111111111111111,
              "#46039f"
             ],
             [
              0.2222222222222222,
              "#7201a8"
             ],
             [
              0.3333333333333333,
              "#9c179e"
             ],
             [
              0.4444444444444444,
              "#bd3786"
             ],
             [
              0.5555555555555556,
              "#d8576b"
             ],
             [
              0.6666666666666666,
              "#ed7953"
             ],
             [
              0.7777777777777778,
              "#fb9f3a"
             ],
             [
              0.8888888888888888,
              "#fdca26"
             ],
             [
              1,
              "#f0f921"
             ]
            ],
            "type": "heatmapgl"
           }
          ],
          "histogram": [
           {
            "marker": {
             "colorbar": {
              "outlinewidth": 0,
              "ticks": ""
             }
            },
            "type": "histogram"
           }
          ],
          "histogram2d": [
           {
            "colorbar": {
             "outlinewidth": 0,
             "ticks": ""
            },
            "colorscale": [
             [
              0,
              "#0d0887"
             ],
             [
              0.1111111111111111,
              "#46039f"
             ],
             [
              0.2222222222222222,
              "#7201a8"
             ],
             [
              0.3333333333333333,
              "#9c179e"
             ],
             [
              0.4444444444444444,
              "#bd3786"
             ],
             [
              0.5555555555555556,
              "#d8576b"
             ],
             [
              0.6666666666666666,
              "#ed7953"
             ],
             [
              0.7777777777777778,
              "#fb9f3a"
             ],
             [
              0.8888888888888888,
              "#fdca26"
             ],
             [
              1,
              "#f0f921"
             ]
            ],
            "type": "histogram2d"
           }
          ],
          "histogram2dcontour": [
           {
            "colorbar": {
             "outlinewidth": 0,
             "ticks": ""
            },
            "colorscale": [
             [
              0,
              "#0d0887"
             ],
             [
              0.1111111111111111,
              "#46039f"
             ],
             [
              0.2222222222222222,
              "#7201a8"
             ],
             [
              0.3333333333333333,
              "#9c179e"
             ],
             [
              0.4444444444444444,
              "#bd3786"
             ],
             [
              0.5555555555555556,
              "#d8576b"
             ],
             [
              0.6666666666666666,
              "#ed7953"
             ],
             [
              0.7777777777777778,
              "#fb9f3a"
             ],
             [
              0.8888888888888888,
              "#fdca26"
             ],
             [
              1,
              "#f0f921"
             ]
            ],
            "type": "histogram2dcontour"
           }
          ],
          "mesh3d": [
           {
            "colorbar": {
             "outlinewidth": 0,
             "ticks": ""
            },
            "type": "mesh3d"
           }
          ],
          "parcoords": [
           {
            "line": {
             "colorbar": {
              "outlinewidth": 0,
              "ticks": ""
             }
            },
            "type": "parcoords"
           }
          ],
          "scatter": [
           {
            "marker": {
             "colorbar": {
              "outlinewidth": 0,
              "ticks": ""
             }
            },
            "type": "scatter"
           }
          ],
          "scatter3d": [
           {
            "line": {
             "colorbar": {
              "outlinewidth": 0,
              "ticks": ""
             }
            },
            "marker": {
             "colorbar": {
              "outlinewidth": 0,
              "ticks": ""
             }
            },
            "type": "scatter3d"
           }
          ],
          "scattercarpet": [
           {
            "marker": {
             "colorbar": {
              "outlinewidth": 0,
              "ticks": ""
             }
            },
            "type": "scattercarpet"
           }
          ],
          "scattergeo": [
           {
            "marker": {
             "colorbar": {
              "outlinewidth": 0,
              "ticks": ""
             }
            },
            "type": "scattergeo"
           }
          ],
          "scattergl": [
           {
            "marker": {
             "colorbar": {
              "outlinewidth": 0,
              "ticks": ""
             }
            },
            "type": "scattergl"
           }
          ],
          "scattermapbox": [
           {
            "marker": {
             "colorbar": {
              "outlinewidth": 0,
              "ticks": ""
             }
            },
            "type": "scattermapbox"
           }
          ],
          "scatterpolar": [
           {
            "marker": {
             "colorbar": {
              "outlinewidth": 0,
              "ticks": ""
             }
            },
            "type": "scatterpolar"
           }
          ],
          "scatterpolargl": [
           {
            "marker": {
             "colorbar": {
              "outlinewidth": 0,
              "ticks": ""
             }
            },
            "type": "scatterpolargl"
           }
          ],
          "scatterternary": [
           {
            "marker": {
             "colorbar": {
              "outlinewidth": 0,
              "ticks": ""
             }
            },
            "type": "scatterternary"
           }
          ],
          "surface": [
           {
            "colorbar": {
             "outlinewidth": 0,
             "ticks": ""
            },
            "colorscale": [
             [
              0,
              "#0d0887"
             ],
             [
              0.1111111111111111,
              "#46039f"
             ],
             [
              0.2222222222222222,
              "#7201a8"
             ],
             [
              0.3333333333333333,
              "#9c179e"
             ],
             [
              0.4444444444444444,
              "#bd3786"
             ],
             [
              0.5555555555555556,
              "#d8576b"
             ],
             [
              0.6666666666666666,
              "#ed7953"
             ],
             [
              0.7777777777777778,
              "#fb9f3a"
             ],
             [
              0.8888888888888888,
              "#fdca26"
             ],
             [
              1,
              "#f0f921"
             ]
            ],
            "type": "surface"
           }
          ],
          "table": [
           {
            "cells": {
             "fill": {
              "color": "#EBF0F8"
             },
             "line": {
              "color": "white"
             }
            },
            "header": {
             "fill": {
              "color": "#C8D4E3"
             },
             "line": {
              "color": "white"
             }
            },
            "type": "table"
           }
          ]
         },
         "layout": {
          "annotationdefaults": {
           "arrowcolor": "#2a3f5f",
           "arrowhead": 0,
           "arrowwidth": 1
          },
          "colorscale": {
           "diverging": [
            [
             0,
             "#8e0152"
            ],
            [
             0.1,
             "#c51b7d"
            ],
            [
             0.2,
             "#de77ae"
            ],
            [
             0.3,
             "#f1b6da"
            ],
            [
             0.4,
             "#fde0ef"
            ],
            [
             0.5,
             "#f7f7f7"
            ],
            [
             0.6,
             "#e6f5d0"
            ],
            [
             0.7,
             "#b8e186"
            ],
            [
             0.8,
             "#7fbc41"
            ],
            [
             0.9,
             "#4d9221"
            ],
            [
             1,
             "#276419"
            ]
           ],
           "sequential": [
            [
             0,
             "#0d0887"
            ],
            [
             0.1111111111111111,
             "#46039f"
            ],
            [
             0.2222222222222222,
             "#7201a8"
            ],
            [
             0.3333333333333333,
             "#9c179e"
            ],
            [
             0.4444444444444444,
             "#bd3786"
            ],
            [
             0.5555555555555556,
             "#d8576b"
            ],
            [
             0.6666666666666666,
             "#ed7953"
            ],
            [
             0.7777777777777778,
             "#fb9f3a"
            ],
            [
             0.8888888888888888,
             "#fdca26"
            ],
            [
             1,
             "#f0f921"
            ]
           ],
           "sequentialminus": [
            [
             0,
             "#0d0887"
            ],
            [
             0.1111111111111111,
             "#46039f"
            ],
            [
             0.2222222222222222,
             "#7201a8"
            ],
            [
             0.3333333333333333,
             "#9c179e"
            ],
            [
             0.4444444444444444,
             "#bd3786"
            ],
            [
             0.5555555555555556,
             "#d8576b"
            ],
            [
             0.6666666666666666,
             "#ed7953"
            ],
            [
             0.7777777777777778,
             "#fb9f3a"
            ],
            [
             0.8888888888888888,
             "#fdca26"
            ],
            [
             1,
             "#f0f921"
            ]
           ]
          },
          "colorway": [
           "#636efa",
           "#EF553B",
           "#00cc96",
           "#ab63fa",
           "#FFA15A",
           "#19d3f3",
           "#FF6692",
           "#B6E880",
           "#FF97FF",
           "#FECB52"
          ],
          "font": {
           "color": "#2a3f5f"
          },
          "geo": {
           "bgcolor": "white",
           "lakecolor": "white",
           "landcolor": "#E5ECF6",
           "showlakes": true,
           "showland": true,
           "subunitcolor": "white"
          },
          "hoverlabel": {
           "align": "left"
          },
          "hovermode": "closest",
          "mapbox": {
           "style": "light"
          },
          "paper_bgcolor": "white",
          "plot_bgcolor": "#E5ECF6",
          "polar": {
           "angularaxis": {
            "gridcolor": "white",
            "linecolor": "white",
            "ticks": ""
           },
           "bgcolor": "#E5ECF6",
           "radialaxis": {
            "gridcolor": "white",
            "linecolor": "white",
            "ticks": ""
           }
          },
          "scene": {
           "xaxis": {
            "backgroundcolor": "#E5ECF6",
            "gridcolor": "white",
            "gridwidth": 2,
            "linecolor": "white",
            "showbackground": true,
            "ticks": "",
            "zerolinecolor": "white"
           },
           "yaxis": {
            "backgroundcolor": "#E5ECF6",
            "gridcolor": "white",
            "gridwidth": 2,
            "linecolor": "white",
            "showbackground": true,
            "ticks": "",
            "zerolinecolor": "white"
           },
           "zaxis": {
            "backgroundcolor": "#E5ECF6",
            "gridcolor": "white",
            "gridwidth": 2,
            "linecolor": "white",
            "showbackground": true,
            "ticks": "",
            "zerolinecolor": "white"
           }
          },
          "shapedefaults": {
           "line": {
            "color": "#2a3f5f"
           }
          },
          "ternary": {
           "aaxis": {
            "gridcolor": "white",
            "linecolor": "white",
            "ticks": ""
           },
           "baxis": {
            "gridcolor": "white",
            "linecolor": "white",
            "ticks": ""
           },
           "bgcolor": "#E5ECF6",
           "caxis": {
            "gridcolor": "white",
            "linecolor": "white",
            "ticks": ""
           }
          },
          "title": {
           "x": 0.05
          },
          "xaxis": {
           "automargin": true,
           "gridcolor": "white",
           "linecolor": "white",
           "ticks": "",
           "zerolinecolor": "white",
           "zerolinewidth": 2
          },
          "yaxis": {
           "automargin": true,
           "gridcolor": "white",
           "linecolor": "white",
           "ticks": "",
           "zerolinecolor": "white",
           "zerolinewidth": 2
          }
         }
        },
        "title": {
         "text": "Clubs with Young Assets"
        },
        "xaxis": {
         "anchor": "y",
         "domain": [
          0,
          0.98
         ],
         "title": {
          "text": "Estimated Value (in Millions)"
         }
        },
        "yaxis": {
         "anchor": "x",
         "domain": [
          0,
          1
         ],
         "title": {
          "text": "Player Count"
         }
        }
       }
      },
      "text/html": [
       "<div>\n",
       "        \n",
       "        \n",
       "            <div id=\"03cf4f7c-5240-42a4-a3fd-13d0e74470fa\" class=\"plotly-graph-div\" style=\"height:600px; width:100%;\"></div>\n",
       "            <script type=\"text/javascript\">\n",
       "                require([\"plotly\"], function(Plotly) {\n",
       "                    window.PLOTLYENV=window.PLOTLYENV || {};\n",
       "                    \n",
       "                if (document.getElementById(\"03cf4f7c-5240-42a4-a3fd-13d0e74470fa\")) {\n",
       "                    Plotly.newPlot(\n",
       "                        '03cf4f7c-5240-42a4-a3fd-13d0e74470fa',\n",
       "                        [{\"customdata\": [[\"1. FC K\\u00f6ln\"], [\"1. FSV Mainz 05\"], [\"AEK Athens\"], [\"AS Monaco\"], [\"AZ Alkmaar\"], [\"Ajax\"], [\"Argentinos Juniors\"], [\"Arsenal\"], [\"Aston Villa\"], [\"Atalanta\"], [\"Atlanta United\"], [\"Bayer 04 Leverkusen\"], [\"Bologna\"], [\"Borussia Dortmund\"], [\"Borussia M\\u00f6nchengladbach\"], [\"Bournemouth\"], [\"Brescia\"], [\"CD Legan\\u00e9s\"], [\"Cagliari\"], [\"Celtic\"], [\"Chelsea\"], [\"Club Brugge KV\"], [\"Crystal Palace\"], [\"DC United\"], [\"Deportivo Cali\"], [\"Derby County\"], [\"Dijon FCO\"], [\"Dinamo Zagreb\"], [\"Dynamo Kyiv\"], [\"Eintracht Frankfurt\"], [\"En Avant de Guingamp\"], [\"Everton\"], [\"Excelsior\"], [\"FC Barcelona\"], [\"FC Basel 1893\"], [\"FC Bayern M\\u00fcnchen\"], [\"FC Girondins de Bordeaux\"], [\"FC Groningen\"], [\"FC Nantes\"], [\"FC Porto\"], [\"FC Red Bull Salzburg\"], [\"FC Schalke 04\"], [\"FC Z\\u00fcrich\"], [\"Fiorentina\"], [\"Fulham\"], [\"Galatasaray SK\"], [\"Genoa\"], [\"Getafe CF\"], [\"Hamburger SV\"], [\"Hannover 96\"], [\"Heart of Midlothian\"], [\"Hertha BSC\"], [\"Independiente\"], [\"Inter\"], [\"Juventus\"], [\"KAA Gent\"], [\"KRC Genk\"], [\"LOSC Lille\"], [\"Lech Pozna\\u0144\"], [\"Legia Warszawa\"], [\"Leicester City\"], [\"Liverpool\"], [\"Manchester City\"], [\"Manchester United\"], [\"Milan\"], [\"Molde FK\"], [\"Montpellier HSC\"], [\"Napoli\"], [\"New York Red Bulls\"], [\"Norwich City\"], [\"OGC Nice\"], [\"Olympique Lyonnais\"], [\"Olympique de Marseille\"], [\"PFC CSKA Moscow\"], [\"PSV\"], [\"Paris Saint-Germain\"], [\"Parma\"], [\"RB Leipzig\"], [\"RC Celta\"], [\"RCD Espanyol\"], [\"RSC Anderlecht\"], [\"Racing Club\"], [\"Rangers FC\"], [\"Real Madrid\"], [\"Real Sociedad\"], [\"Rio Ave FC\"], [\"River Plate\"], [\"Roma\"], [\"SC Braga\"], [\"SK Sturm Graz\"], [\"SL Benfica\"], [\"SV Werder Bremen\"], [\"Sampdoria\"], [\"Sassuolo\"], [\"Shakhtar Donetsk\"], [\"Sheffield United\"], [\"Sporting CP\"], [\"Stade Rennais FC\"], [\"Swansea City\"], [\"TSG 1899 Hoffenheim\"], [\"Tottenham Hotspur\"], [\"Toulouse Football Club\"], [\"Udinese\"], [\"Valencia CF\"], [\"Vancouver Whitecaps FC\"], [\"VfB Stuttgart\"], [\"VfL Wolfsburg\"], [\"Vitesse\"], [\"V\\u00e9lez Sarsfield\"], [\"West Bromwich Albion\"], [\"West Ham United\"], [\"Wigan Athletic\"], [\"Wolverhampton Wanderers\"], [\"Yokohama F. Marinos\"]], \"hoverlabel\": {\"namelength\": 0}, \"hovertemplate\": \"Estimated Value (in Millions)=%{marker.color}<br>Player Count=%{y}<br>Club=%{customdata[0]}\", \"legendgroup\": \"\", \"marker\": {\"color\": [3.9, 18.0, 4.1, 44.1, 3.5999999999999996, 88.5, 3.3, 10.45, 10.0, 5.4, 8.5, 62.2, 13.2, 65.3, 40.0, 19.5, 1.8, 10.5, 21.5, 28.5, 5.1499999999999995, 38.75, 8.0, 1.4, 7.0, 16.5, 0.8, 11.0, 25.1, 15.5, 10.5, 35.0, 1.4, 112.1, 0.28, 11.85, 30.1, 7.0, 0.65, 23.5, 10.0, 40.0, 1.7, 30.0, 20.0, 12.5, 5.0, 12.0, 2.2, 11.0, 0.65, 12.700000000000001, 9.5, 18.0, 22.0, 8.9, 15.6, 13.5, 3.2, 1.6, 42.5, 33.1, 52.300000000000004, 34.300000000000004, 80.1, 1.8, 2.0, 26.0, 4.8, 1.6, 31.5, 81.675, 6.0, 10.5, 21.8, 112.2, 1.5, 59.3, 31.0, 11.5, 5.5, 8.3, 0.925, 64.5, 32.925, 7.0, 7.0, 40.8, 7.0, 4.5, 57.8, 14.95, 5.5, 7.6, 9.950000000000001, 1.8, 42.5, 14.9, 2.1, 22.099999999999998, 5.5, 15.5, 22.5, 71.5, 6.0, 25.0, 23.0, 20.0, 9.5, 7.0, 18.0, 1.6, 37.6, 0.975], \"coloraxis\": \"coloraxis\", \"size\": [3.9, 18.0, 4.1, 44.1, 3.5999999999999996, 88.5, 3.3, 10.45, 10.0, 5.4, 8.5, 62.2, 13.2, 65.3, 40.0, 19.5, 1.8, 10.5, 21.5, 28.5, 5.1499999999999995, 38.75, 8.0, 1.4, 7.0, 16.5, 0.8, 11.0, 25.1, 15.5, 10.5, 35.0, 1.4, 112.1, 0.28, 11.85, 30.1, 7.0, 0.65, 23.5, 10.0, 40.0, 1.7, 30.0, 20.0, 12.5, 5.0, 12.0, 2.2, 11.0, 0.65, 12.700000000000001, 9.5, 18.0, 22.0, 8.9, 15.6, 13.5, 3.2, 1.6, 42.5, 33.1, 52.300000000000004, 34.300000000000004, 80.1, 1.8, 2.0, 26.0, 4.8, 1.6, 31.5, 81.675, 6.0, 10.5, 21.8, 112.2, 1.5, 59.3, 31.0, 11.5, 5.5, 8.3, 0.925, 64.5, 32.925, 7.0, 7.0, 40.8, 7.0, 4.5, 57.8, 14.95, 5.5, 7.6, 9.950000000000001, 1.8, 42.5, 14.9, 2.1, 22.099999999999998, 5.5, 15.5, 22.5, 71.5, 6.0, 25.0, 23.0, 20.0, 9.5, 7.0, 18.0, 1.6, 37.6, 0.975], \"sizemode\": \"area\", \"sizeref\": 0.2805, \"symbol\": \"circle\"}, \"mode\": \"markers\", \"name\": \"\", \"showlegend\": false, \"type\": \"scatter\", \"x\": [3.9, 18.0, 4.1, 44.1, 3.5999999999999996, 88.5, 3.3, 10.45, 10.0, 5.4, 8.5, 62.2, 13.2, 65.3, 40.0, 19.5, 1.8, 10.5, 21.5, 28.5, 5.1499999999999995, 38.75, 8.0, 1.4, 7.0, 16.5, 0.8, 11.0, 25.1, 15.5, 10.5, 35.0, 1.4, 112.1, 0.28, 11.85, 30.1, 7.0, 0.65, 23.5, 10.0, 40.0, 1.7, 30.0, 20.0, 12.5, 5.0, 12.0, 2.2, 11.0, 0.65, 12.700000000000001, 9.5, 18.0, 22.0, 8.9, 15.6, 13.5, 3.2, 1.6, 42.5, 33.1, 52.300000000000004, 34.300000000000004, 80.1, 1.8, 2.0, 26.0, 4.8, 1.6, 31.5, 81.675, 6.0, 10.5, 21.8, 112.2, 1.5, 59.3, 31.0, 11.5, 5.5, 8.3, 0.925, 64.5, 32.925, 7.0, 7.0, 40.8, 7.0, 4.5, 57.8, 14.95, 5.5, 7.6, 9.950000000000001, 1.8, 42.5, 14.9, 2.1, 22.099999999999998, 5.5, 15.5, 22.5, 71.5, 6.0, 25.0, 23.0, 20.0, 9.5, 7.0, 18.0, 1.6, 37.6, 0.975], \"xaxis\": \"x\", \"y\": [1, 2, 1, 8, 2, 5, 1, 4, 1, 2, 1, 4, 3, 6, 4, 2, 1, 1, 2, 3, 3, 5, 1, 1, 1, 2, 1, 1, 3, 1, 1, 3, 1, 5, 1, 3, 4, 1, 1, 2, 1, 3, 1, 2, 2, 1, 1, 1, 1, 1, 1, 3, 1, 1, 2, 2, 2, 2, 2, 1, 3, 4, 4, 4, 5, 1, 1, 2, 1, 1, 3, 7, 1, 1, 2, 7, 1, 6, 2, 1, 1, 2, 1, 4, 3, 1, 1, 4, 1, 1, 6, 2, 1, 2, 3, 1, 3, 2, 1, 3, 1, 2, 2, 5, 1, 2, 3, 2, 1, 1, 2, 1, 3, 1], \"yaxis\": \"y\"}],\n",
       "                        {\"coloraxis\": {\"colorbar\": {\"title\": {\"text\": \"Estimated Value (in Millions)\"}}, \"colorscale\": [[0.0, \"#0d0887\"], [0.1111111111111111, \"#46039f\"], [0.2222222222222222, \"#7201a8\"], [0.3333333333333333, \"#9c179e\"], [0.4444444444444444, \"#bd3786\"], [0.5555555555555556, \"#d8576b\"], [0.6666666666666666, \"#ed7953\"], [0.7777777777777778, \"#fb9f3a\"], [0.8888888888888888, \"#fdca26\"], [1.0, \"#f0f921\"]]}, \"height\": 600, \"legend\": {\"itemsizing\": \"constant\", \"tracegroupgap\": 0}, \"template\": {\"data\": {\"bar\": [{\"error_x\": {\"color\": \"#2a3f5f\"}, \"error_y\": {\"color\": \"#2a3f5f\"}, \"marker\": {\"line\": {\"color\": \"#E5ECF6\", \"width\": 0.5}}, \"type\": \"bar\"}], \"barpolar\": [{\"marker\": {\"line\": {\"color\": \"#E5ECF6\", \"width\": 0.5}}, \"type\": \"barpolar\"}], \"carpet\": [{\"aaxis\": {\"endlinecolor\": \"#2a3f5f\", \"gridcolor\": \"white\", \"linecolor\": \"white\", \"minorgridcolor\": \"white\", \"startlinecolor\": \"#2a3f5f\"}, \"baxis\": {\"endlinecolor\": \"#2a3f5f\", \"gridcolor\": \"white\", \"linecolor\": \"white\", \"minorgridcolor\": \"white\", \"startlinecolor\": \"#2a3f5f\"}, \"type\": \"carpet\"}], \"choropleth\": [{\"colorbar\": {\"outlinewidth\": 0, \"ticks\": \"\"}, \"type\": \"choropleth\"}], \"contour\": [{\"colorbar\": {\"outlinewidth\": 0, \"ticks\": \"\"}, \"colorscale\": [[0.0, \"#0d0887\"], [0.1111111111111111, \"#46039f\"], [0.2222222222222222, \"#7201a8\"], [0.3333333333333333, \"#9c179e\"], [0.4444444444444444, \"#bd3786\"], [0.5555555555555556, \"#d8576b\"], [0.6666666666666666, \"#ed7953\"], [0.7777777777777778, \"#fb9f3a\"], [0.8888888888888888, \"#fdca26\"], [1.0, \"#f0f921\"]], \"type\": \"contour\"}], \"contourcarpet\": [{\"colorbar\": {\"outlinewidth\": 0, \"ticks\": \"\"}, \"type\": \"contourcarpet\"}], \"heatmap\": [{\"colorbar\": {\"outlinewidth\": 0, \"ticks\": \"\"}, \"colorscale\": [[0.0, \"#0d0887\"], [0.1111111111111111, \"#46039f\"], [0.2222222222222222, \"#7201a8\"], [0.3333333333333333, \"#9c179e\"], [0.4444444444444444, \"#bd3786\"], [0.5555555555555556, \"#d8576b\"], [0.6666666666666666, \"#ed7953\"], [0.7777777777777778, \"#fb9f3a\"], [0.8888888888888888, \"#fdca26\"], [1.0, \"#f0f921\"]], \"type\": \"heatmap\"}], \"heatmapgl\": [{\"colorbar\": {\"outlinewidth\": 0, \"ticks\": \"\"}, \"colorscale\": [[0.0, \"#0d0887\"], [0.1111111111111111, \"#46039f\"], [0.2222222222222222, \"#7201a8\"], [0.3333333333333333, \"#9c179e\"], [0.4444444444444444, \"#bd3786\"], [0.5555555555555556, \"#d8576b\"], [0.6666666666666666, \"#ed7953\"], [0.7777777777777778, \"#fb9f3a\"], [0.8888888888888888, \"#fdca26\"], [1.0, \"#f0f921\"]], \"type\": \"heatmapgl\"}], \"histogram\": [{\"marker\": {\"colorbar\": {\"outlinewidth\": 0, \"ticks\": \"\"}}, \"type\": \"histogram\"}], \"histogram2d\": [{\"colorbar\": {\"outlinewidth\": 0, \"ticks\": \"\"}, \"colorscale\": [[0.0, \"#0d0887\"], [0.1111111111111111, \"#46039f\"], [0.2222222222222222, \"#7201a8\"], [0.3333333333333333, \"#9c179e\"], [0.4444444444444444, \"#bd3786\"], [0.5555555555555556, \"#d8576b\"], [0.6666666666666666, \"#ed7953\"], [0.7777777777777778, \"#fb9f3a\"], [0.8888888888888888, \"#fdca26\"], [1.0, \"#f0f921\"]], \"type\": \"histogram2d\"}], \"histogram2dcontour\": [{\"colorbar\": {\"outlinewidth\": 0, \"ticks\": \"\"}, \"colorscale\": [[0.0, \"#0d0887\"], [0.1111111111111111, \"#46039f\"], [0.2222222222222222, \"#7201a8\"], [0.3333333333333333, \"#9c179e\"], [0.4444444444444444, \"#bd3786\"], [0.5555555555555556, \"#d8576b\"], [0.6666666666666666, \"#ed7953\"], [0.7777777777777778, \"#fb9f3a\"], [0.8888888888888888, \"#fdca26\"], [1.0, \"#f0f921\"]], \"type\": \"histogram2dcontour\"}], \"mesh3d\": [{\"colorbar\": {\"outlinewidth\": 0, \"ticks\": \"\"}, \"type\": \"mesh3d\"}], \"parcoords\": [{\"line\": {\"colorbar\": {\"outlinewidth\": 0, \"ticks\": \"\"}}, \"type\": \"parcoords\"}], \"scatter\": [{\"marker\": {\"colorbar\": {\"outlinewidth\": 0, \"ticks\": \"\"}}, \"type\": \"scatter\"}], \"scatter3d\": [{\"line\": {\"colorbar\": {\"outlinewidth\": 0, \"ticks\": \"\"}}, \"marker\": {\"colorbar\": {\"outlinewidth\": 0, \"ticks\": \"\"}}, \"type\": \"scatter3d\"}], \"scattercarpet\": [{\"marker\": {\"colorbar\": {\"outlinewidth\": 0, \"ticks\": \"\"}}, \"type\": \"scattercarpet\"}], \"scattergeo\": [{\"marker\": {\"colorbar\": {\"outlinewidth\": 0, \"ticks\": \"\"}}, \"type\": \"scattergeo\"}], \"scattergl\": [{\"marker\": {\"colorbar\": {\"outlinewidth\": 0, \"ticks\": \"\"}}, \"type\": \"scattergl\"}], \"scattermapbox\": [{\"marker\": {\"colorbar\": {\"outlinewidth\": 0, \"ticks\": \"\"}}, \"type\": \"scattermapbox\"}], \"scatterpolar\": [{\"marker\": {\"colorbar\": {\"outlinewidth\": 0, \"ticks\": \"\"}}, \"type\": \"scatterpolar\"}], \"scatterpolargl\": [{\"marker\": {\"colorbar\": {\"outlinewidth\": 0, \"ticks\": \"\"}}, \"type\": \"scatterpolargl\"}], \"scatterternary\": [{\"marker\": {\"colorbar\": {\"outlinewidth\": 0, \"ticks\": \"\"}}, \"type\": \"scatterternary\"}], \"surface\": [{\"colorbar\": {\"outlinewidth\": 0, \"ticks\": \"\"}, \"colorscale\": [[0.0, \"#0d0887\"], [0.1111111111111111, \"#46039f\"], [0.2222222222222222, \"#7201a8\"], [0.3333333333333333, \"#9c179e\"], [0.4444444444444444, \"#bd3786\"], [0.5555555555555556, \"#d8576b\"], [0.6666666666666666, \"#ed7953\"], [0.7777777777777778, \"#fb9f3a\"], [0.8888888888888888, \"#fdca26\"], [1.0, \"#f0f921\"]], \"type\": \"surface\"}], \"table\": [{\"cells\": {\"fill\": {\"color\": \"#EBF0F8\"}, \"line\": {\"color\": \"white\"}}, \"header\": {\"fill\": {\"color\": \"#C8D4E3\"}, \"line\": {\"color\": \"white\"}}, \"type\": \"table\"}]}, \"layout\": {\"annotationdefaults\": {\"arrowcolor\": \"#2a3f5f\", \"arrowhead\": 0, \"arrowwidth\": 1}, \"colorscale\": {\"diverging\": [[0, \"#8e0152\"], [0.1, \"#c51b7d\"], [0.2, \"#de77ae\"], [0.3, \"#f1b6da\"], [0.4, \"#fde0ef\"], [0.5, \"#f7f7f7\"], [0.6, \"#e6f5d0\"], [0.7, \"#b8e186\"], [0.8, \"#7fbc41\"], [0.9, \"#4d9221\"], [1, \"#276419\"]], \"sequential\": [[0.0, \"#0d0887\"], [0.1111111111111111, \"#46039f\"], [0.2222222222222222, \"#7201a8\"], [0.3333333333333333, \"#9c179e\"], [0.4444444444444444, \"#bd3786\"], [0.5555555555555556, \"#d8576b\"], [0.6666666666666666, \"#ed7953\"], [0.7777777777777778, \"#fb9f3a\"], [0.8888888888888888, \"#fdca26\"], [1.0, \"#f0f921\"]], \"sequentialminus\": [[0.0, \"#0d0887\"], [0.1111111111111111, \"#46039f\"], [0.2222222222222222, \"#7201a8\"], [0.3333333333333333, \"#9c179e\"], [0.4444444444444444, \"#bd3786\"], [0.5555555555555556, \"#d8576b\"], [0.6666666666666666, \"#ed7953\"], [0.7777777777777778, \"#fb9f3a\"], [0.8888888888888888, \"#fdca26\"], [1.0, \"#f0f921\"]]}, \"colorway\": [\"#636efa\", \"#EF553B\", \"#00cc96\", \"#ab63fa\", \"#FFA15A\", \"#19d3f3\", \"#FF6692\", \"#B6E880\", \"#FF97FF\", \"#FECB52\"], \"font\": {\"color\": \"#2a3f5f\"}, \"geo\": {\"bgcolor\": \"white\", \"lakecolor\": \"white\", \"landcolor\": \"#E5ECF6\", \"showlakes\": true, \"showland\": true, \"subunitcolor\": \"white\"}, \"hoverlabel\": {\"align\": \"left\"}, \"hovermode\": \"closest\", \"mapbox\": {\"style\": \"light\"}, \"paper_bgcolor\": \"white\", \"plot_bgcolor\": \"#E5ECF6\", \"polar\": {\"angularaxis\": {\"gridcolor\": \"white\", \"linecolor\": \"white\", \"ticks\": \"\"}, \"bgcolor\": \"#E5ECF6\", \"radialaxis\": {\"gridcolor\": \"white\", \"linecolor\": \"white\", \"ticks\": \"\"}}, \"scene\": {\"xaxis\": {\"backgroundcolor\": \"#E5ECF6\", \"gridcolor\": \"white\", \"gridwidth\": 2, \"linecolor\": \"white\", \"showbackground\": true, \"ticks\": \"\", \"zerolinecolor\": \"white\"}, \"yaxis\": {\"backgroundcolor\": \"#E5ECF6\", \"gridcolor\": \"white\", \"gridwidth\": 2, \"linecolor\": \"white\", \"showbackground\": true, \"ticks\": \"\", \"zerolinecolor\": \"white\"}, \"zaxis\": {\"backgroundcolor\": \"#E5ECF6\", \"gridcolor\": \"white\", \"gridwidth\": 2, \"linecolor\": \"white\", \"showbackground\": true, \"ticks\": \"\", \"zerolinecolor\": \"white\"}}, \"shapedefaults\": {\"line\": {\"color\": \"#2a3f5f\"}}, \"ternary\": {\"aaxis\": {\"gridcolor\": \"white\", \"linecolor\": \"white\", \"ticks\": \"\"}, \"baxis\": {\"gridcolor\": \"white\", \"linecolor\": \"white\", \"ticks\": \"\"}, \"bgcolor\": \"#E5ECF6\", \"caxis\": {\"gridcolor\": \"white\", \"linecolor\": \"white\", \"ticks\": \"\"}}, \"title\": {\"x\": 0.05}, \"xaxis\": {\"automargin\": true, \"gridcolor\": \"white\", \"linecolor\": \"white\", \"ticks\": \"\", \"zerolinecolor\": \"white\", \"zerolinewidth\": 2}, \"yaxis\": {\"automargin\": true, \"gridcolor\": \"white\", \"linecolor\": \"white\", \"ticks\": \"\", \"zerolinecolor\": \"white\", \"zerolinewidth\": 2}}}, \"title\": {\"text\": \"Clubs with Young Assets\"}, \"xaxis\": {\"anchor\": \"y\", \"domain\": [0.0, 0.98], \"title\": {\"text\": \"Estimated Value (in Millions)\"}}, \"yaxis\": {\"anchor\": \"x\", \"domain\": [0.0, 1.0], \"title\": {\"text\": \"Player Count\"}}},\n",
       "                        {\"responsive\": true}\n",
       "                    ).then(function(){\n",
       "                            \n",
       "var gd = document.getElementById('03cf4f7c-5240-42a4-a3fd-13d0e74470fa');\n",
       "var x = new MutationObserver(function (mutations, observer) {{\n",
       "        var display = window.getComputedStyle(gd).display;\n",
       "        if (!display || display === 'none') {{\n",
       "            console.log([gd, 'removed!']);\n",
       "            Plotly.purge(gd);\n",
       "            observer.disconnect();\n",
       "        }}\n",
       "}});\n",
       "\n",
       "// Listen for the removal of the full notebook cells\n",
       "var notebookContainer = gd.closest('#notebook-container');\n",
       "if (notebookContainer) {{\n",
       "    x.observe(notebookContainer, {childList: true});\n",
       "}}\n",
       "\n",
       "// Listen for the clearing of the current output cell\n",
       "var outputEl = gd.closest('.output');\n",
       "if (outputEl) {{\n",
       "    x.observe(outputEl, {childList: true});\n",
       "}}\n",
       "\n",
       "                        })\n",
       "                };\n",
       "                });\n",
       "            </script>\n",
       "        </div>"
      ]
     },
     "metadata": {},
     "output_type": "display_data"
    }
   ],
   "source": [
    "fig = px.scatter(hp_asset, x=\"Value\", y=\"Player_Count\", hover_data=['Club'], size = 'Value', color = 'Value',\n",
    "        title = 'Clubs with Young Assets',\n",
    "        labels = {\"Value\":\"Estimated Value (in Millions)\",\"Player_Count\":\"Player Count\"})\n",
    "fig.show()"
   ]
  },
  {
   "cell_type": "code",
   "execution_count": null,
   "metadata": {},
   "outputs": [],
   "source": []
  }
 ],
 "metadata": {
  "kernelspec": {
   "display_name": "Python 3",
   "language": "python",
   "name": "python3"
  },
  "language_info": {
   "codemirror_mode": {
    "name": "ipython",
    "version": 3
   },
   "file_extension": ".py",
   "mimetype": "text/x-python",
   "name": "python",
   "nbconvert_exporter": "python",
   "pygments_lexer": "ipython3",
   "version": "3.7.3"
  }
 },
 "nbformat": 4,
 "nbformat_minor": 2
}
